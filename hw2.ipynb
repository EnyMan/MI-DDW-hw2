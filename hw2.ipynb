{
 "cells": [
  {
   "cell_type": "code",
   "execution_count": 1,
   "metadata": {},
   "outputs": [],
   "source": [
    "%matplotlib inline\n",
    "import numpy as np\n",
    "import seaborn\n",
    "import nltk\n",
    "from sklearn.metrics.pairwise import cosine_similarity, euclidean_distances\n",
    "from sklearn.feature_extraction.text import TfidfVectorizer, CountVectorizer\n",
    "from sklearn.metrics import classification_report"
   ]
  },
  {
   "cell_type": "code",
   "execution_count": 2,
   "metadata": {},
   "outputs": [
    {
     "name": "stdout",
     "output_type": "stream",
     "text": [
      "Lenght of query set to 8 as thats the average lenght of reference\n"
     ]
    }
   ],
   "source": [
    "# prepare corpus\n",
    "corpus = []\n",
    "for d in range(1400):\n",
    "    f = open(\"./d/\"+str(d+1)+\".txt\")\n",
    "    corpus.append(f.read())\n",
    "    f.close()\n",
    "    \n",
    "queries = []\n",
    "for q in range(225):\n",
    "    f = open(\"./q/\"+str(q+1)+\".txt\")\n",
    "    queries.append(f.read())\n",
    "    f.close()\n",
    "    \n",
    "reference = []\n",
    "for r in range(225):\n",
    "    f = open(\"./r/\"+str(r+1)+\".txt\")\n",
    "    reference.append(list(map(int, f.read().replace('\\n', ' ')[:-1].split(' '))))\n",
    "    f.close()\n",
    "    \n",
    "q_len = []\n",
    "for r in reference:\n",
    "    q_len.append(len(r))\n",
    "\n",
    "min_q = int(np.average(q_len)) #  overwrite min_q here shortest lenght of reference is 2\n",
    "print(\"Lenght of query set to {} as thats the average lenght of reference\".format(min_q))"
   ]
  },
  {
   "cell_type": "markdown",
   "metadata": {},
   "source": [
    "# BINARY REPRESENTATION"
   ]
  },
  {
   "cell_type": "code",
   "execution_count": 3,
   "metadata": {},
   "outputs": [],
   "source": [
    "binary_vectorizer = CountVectorizer(binary=True)\n",
    "binary_matrix = binary_vectorizer.fit_transform(corpus)\n",
    "binary_queries_matrix = binary_vectorizer.transform(queries)"
   ]
  },
  {
   "cell_type": "markdown",
   "metadata": {},
   "source": [
    "## cosine similarity"
   ]
  },
  {
   "cell_type": "code",
   "execution_count": 4,
   "metadata": {},
   "outputs": [
    {
     "name": "stdout",
     "output_type": "stream",
     "text": [
      "            min   max   avg   mean\n",
      "Precision: 0.000 0.750 0.172 0.125\n",
      "Recalls  : 0.000 1.000 0.206 0.167\n",
      "F-Measure: 0.000 0.800 0.174 0.154\n"
     ]
    }
   ],
   "source": [
    "precisions = []\n",
    "recalls = []\n",
    "f_measures = []\n",
    "\n",
    "for r in range(len(reference)-1):\n",
    "    sim = np.array(cosine_similarity(binary_queries_matrix[r], binary_matrix)[0])\n",
    "    retrieved = sim.argsort()[-min_q:][::-1]+1\n",
    "    tp = 0\n",
    "    fp = 0\n",
    "    for doc in retrieved:\n",
    "        if doc in reference[r]:\n",
    "            tp += 1\n",
    "        else:\n",
    "            fp += 1\n",
    "    fn = len(reference[r]) - tp\n",
    "    precision = tp/(tp+fp)\n",
    "    recall = tp/(tp+fn)\n",
    "    precisions.append(precision)\n",
    "    recalls.append(recall)\n",
    "    if tp == 0:\n",
    "        f_measures.append(0)\n",
    "    else:\n",
    "        f_measures.append(2*(precision*recall)/(precision+recall))\n",
    "        \n",
    "print(\"            min   max   avg   mean\")        \n",
    "print(\"Precision: {:.3f} {:.3f} {:.3f} {:.3f}\".format(np.min(precisions), np.max(precisions), np.average(precisions),  np.median(precisions)))\n",
    "print(\"Recalls  : {:.3f} {:.3f} {:.3f} {:.3f}\".format(np.min(recalls), np.max(recalls), np.average(recalls),  np.median(recalls)))\n",
    "print(\"F-Measure: {:.3f} {:.3f} {:.3f} {:.3f}\".format(np.min(f_measures), np.max(f_measures), np.average(f_measures),  np.median(f_measures)))\n",
    "\n",
    "f = open(\"./bin_cos.csv\", 'w')\n",
    "for l in range(len(reference)-1):\n",
    "    f.write(\"{},{},{}\\n\".format(precisions[l], recalls[l], f_measures[l]))\n",
    "f.close()"
   ]
  },
  {
   "cell_type": "markdown",
   "metadata": {},
   "source": [
    "## euclidean distance"
   ]
  },
  {
   "cell_type": "code",
   "execution_count": 5,
   "metadata": {},
   "outputs": [
    {
     "name": "stdout",
     "output_type": "stream",
     "text": [
      "            min   max   avg   mean\n",
      "Precision: 0.000 0.250 0.011 0.000\n",
      "Recalls  : 0.000 0.333 0.013 0.000\n",
      "F-Measure: 0.000 0.286 0.011 0.000\n"
     ]
    }
   ],
   "source": [
    "precisions = []\n",
    "recalls = []\n",
    "f_measures = []\n",
    "\n",
    "for r in range(len(reference)-1):\n",
    "    sim = np.array(euclidean_distances(binary_queries_matrix[r], binary_matrix)[0])\n",
    "    retrieved = sim.argsort()[:min_q]+1\n",
    "    tp = 0\n",
    "    fp = 0\n",
    "    for doc in retrieved:\n",
    "        if doc in reference[r]:\n",
    "            tp += 1\n",
    "        else:\n",
    "            fp += 1\n",
    "    fn = len(reference[r]) - tp\n",
    "    precision = tp/(tp+fp)\n",
    "    recall = tp/(tp+fn)\n",
    "    precisions.append(precision)\n",
    "    recalls.append(recall)\n",
    "    if tp == 0:\n",
    "        f_measures.append(0)\n",
    "    else:\n",
    "        f_measures.append(2*(precision*recall)/(precision+recall))\n",
    "\n",
    "        \n",
    "print(\"            min   max   avg   mean\")        \n",
    "print(\"Precision: {:.3f} {:.3f} {:.3f} {:.3f}\".format(np.min(precisions), np.max(precisions), np.average(precisions),  np.median(precisions)))\n",
    "print(\"Recalls  : {:.3f} {:.3f} {:.3f} {:.3f}\".format(np.min(recalls), np.max(recalls), np.average(recalls),  np.median(recalls)))\n",
    "print(\"F-Measure: {:.3f} {:.3f} {:.3f} {:.3f}\".format(np.min(f_measures), np.max(f_measures), np.average(f_measures),  np.median(f_measures)))\n",
    "\n",
    "f = open(\"./bin_euc.csv\", 'w')\n",
    "for l in range(len(reference)-1):\n",
    "    f.write(\"{},{},{}\\n\".format(precisions[l], recalls[l], f_measures[l]))\n",
    "f.close()"
   ]
  },
  {
   "cell_type": "markdown",
   "metadata": {},
   "source": [
    "# TERM FRENQUENCY"
   ]
  },
  {
   "cell_type": "code",
   "execution_count": 6,
   "metadata": {},
   "outputs": [],
   "source": [
    "count_vectorizer = CountVectorizer()\n",
    "count_matrix = count_vectorizer.fit_transform(corpus)\n",
    "count_queries_matrix = count_vectorizer.transform(queries)"
   ]
  },
  {
   "cell_type": "markdown",
   "metadata": {},
   "source": [
    "## cosine similarity"
   ]
  },
  {
   "cell_type": "code",
   "execution_count": 13,
   "metadata": {},
   "outputs": [
    {
     "name": "stdout",
     "output_type": "stream",
     "text": [
      "            min   max   avg   mean\n",
      "Precision: 0.000 0.875 0.145 0.125\n",
      "Recalls  : 0.000 1.000 0.162 0.111\n",
      "F-Measure: 0.000 0.778 0.143 0.118\n"
     ]
    }
   ],
   "source": [
    "precisions = []\n",
    "recalls = []\n",
    "f_measures = []\n",
    "\n",
    "for r in range(len(reference)-1):\n",
    "    sim = np.array(cosine_similarity(count_queries_matrix[r], count_matrix)[0])\n",
    "    retrieved = sim.argsort()[-min_q:][::-1]+1\n",
    "    tp = 0\n",
    "    fp = 0\n",
    "    for doc in retrieved:\n",
    "        if doc in reference[r]:\n",
    "            tp += 1\n",
    "        else:\n",
    "            fp += 1\n",
    "    fn = len(reference[r]) - tp\n",
    "    precision = tp/(tp+fp)\n",
    "    recall = tp/(tp+fn)\n",
    "    precisions.append(precision)\n",
    "    recalls.append(recall)\n",
    "    if tp == 0:\n",
    "        f_measures.append(0)\n",
    "    else:\n",
    "        f_measures.append(2*(precision*recall)/(precision+recall))\n",
    "\n",
    "print(\"            min   max   avg   mean\")        \n",
    "print(\"Precision: {:.3f} {:.3f} {:.3f} {:.3f}\".format(np.min(precisions), np.max(precisions), np.average(precisions),  np.median(precisions)))\n",
    "print(\"Recalls  : {:.3f} {:.3f} {:.3f} {:.3f}\".format(np.min(recalls), np.max(recalls), np.average(recalls),  np.median(recalls)))\n",
    "print(\"F-Measure: {:.3f} {:.3f} {:.3f} {:.3f}\".format(np.min(f_measures), np.max(f_measures), np.average(f_measures),  np.median(f_measures)))\n",
    "\n",
    "f = open(\"./term_cos.csv\", 'w')\n",
    "for l in range(len(reference)-1):\n",
    "    f.write(\"{},{},{}\\n\".format(precisions[l], recalls[l], f_measures[l]))\n",
    "f.close()"
   ]
  },
  {
   "cell_type": "markdown",
   "metadata": {},
   "source": [
    "## euclidean distance"
   ]
  },
  {
   "cell_type": "code",
   "execution_count": 8,
   "metadata": {},
   "outputs": [
    {
     "name": "stdout",
     "output_type": "stream",
     "text": [
      "            min   max   avg   mean\n",
      "Precision: 0.000 0.250 0.012 0.000\n",
      "Recalls  : 0.000 0.333 0.013 0.000\n",
      "F-Measure: 0.000 0.182 0.011 0.000\n"
     ]
    }
   ],
   "source": [
    "precisions = []\n",
    "recalls = []\n",
    "f_measures = []\n",
    "\n",
    "for r in range(len(reference)-1):\n",
    "    sim = np.array(euclidean_distances(count_queries_matrix[r], count_matrix)[0])\n",
    "    retrieved = sim.argsort()[:min_q]+1\n",
    "    tp = 0\n",
    "    fp = 0\n",
    "    for doc in retrieved:\n",
    "        if doc in reference[r]:\n",
    "            tp += 1\n",
    "        else:\n",
    "            fp += 1\n",
    "    fn = len(reference[r]) - tp\n",
    "    precision = tp/(tp+fp)\n",
    "    recall = tp/(tp+fn)\n",
    "    precisions.append(precision)\n",
    "    recalls.append(recall)\n",
    "    if tp == 0:\n",
    "        f_measures.append(0)\n",
    "    else:\n",
    "        f_measures.append(2*(precision*recall)/(precision+recall))\n",
    "\n",
    "print(\"            min   max   avg   mean\")        \n",
    "print(\"Precision: {:.3f} {:.3f} {:.3f} {:.3f}\".format(np.min(precisions), np.max(precisions), np.average(precisions),  np.median(precisions)))\n",
    "print(\"Recalls  : {:.3f} {:.3f} {:.3f} {:.3f}\".format(np.min(recalls), np.max(recalls), np.average(recalls),  np.median(recalls)))\n",
    "print(\"F-Measure: {:.3f} {:.3f} {:.3f} {:.3f}\".format(np.min(f_measures), np.max(f_measures), np.average(f_measures),  np.median(f_measures)))\n",
    "\n",
    "f = open(\"./term_euc.csv\", 'w')\n",
    "for l in range(len(reference)-1):\n",
    "    f.write(\"{},{},{}\\n\".format(precisions[l], recalls[l], f_measures[l]))\n",
    "f.close()"
   ]
  },
  {
   "cell_type": "markdown",
   "metadata": {},
   "source": [
    "# TF-IDF"
   ]
  },
  {
   "cell_type": "code",
   "execution_count": 9,
   "metadata": {},
   "outputs": [],
   "source": [
    "tfidf_vectorizer = TfidfVectorizer()\n",
    "tfidf_matrix = tfidf_vectorizer.fit_transform(corpus)\n",
    "tfidf_queries_matrix = tfidf_vectorizer.transform(queries)"
   ]
  },
  {
   "cell_type": "markdown",
   "metadata": {},
   "source": [
    "## cosine similarity"
   ]
  },
  {
   "cell_type": "code",
   "execution_count": 10,
   "metadata": {},
   "outputs": [
    {
     "name": "stdout",
     "output_type": "stream",
     "text": [
      "            min   max   avg   mean\n",
      "Precision: 0.000 0.875 0.273 0.250\n",
      "Recalls  : 0.000 1.000 0.322 0.286\n",
      "F-Measure: 0.000 0.824 0.274 0.267\n"
     ]
    }
   ],
   "source": [
    "precisions = []\n",
    "recalls = []\n",
    "f_measures = []\n",
    "\n",
    "for r in range(len(reference)-1):\n",
    "    sim = np.array(cosine_similarity(tfidf_queries_matrix[r], tfidf_matrix)[0])\n",
    "    retrieved = sim.argsort()[-min_q:][::-1]+1\n",
    "    tp = 0\n",
    "    fp = 0\n",
    "    for doc in retrieved:\n",
    "        if doc in reference[r]:\n",
    "            tp += 1\n",
    "        else:\n",
    "            fp += 1\n",
    "    fn = len(reference[r]) - tp\n",
    "    precision = tp/(tp+fp)\n",
    "    recall = tp/(tp+fn)\n",
    "    precisions.append(precision)\n",
    "    recalls.append(recall)\n",
    "    if tp == 0:\n",
    "        f_measures.append(0)\n",
    "    else:\n",
    "        f_measures.append(2*(precision*recall)/(precision+recall))\n",
    "\n",
    "print(\"            min   max   avg   mean\")        \n",
    "print(\"Precision: {:.3f} {:.3f} {:.3f} {:.3f}\".format(np.min(precisions), np.max(precisions), np.average(precisions),  np.median(precisions)))\n",
    "print(\"Recalls  : {:.3f} {:.3f} {:.3f} {:.3f}\".format(np.min(recalls), np.max(recalls), np.average(recalls),  np.median(recalls)))\n",
    "print(\"F-Measure: {:.3f} {:.3f} {:.3f} {:.3f}\".format(np.min(f_measures), np.max(f_measures), np.average(f_measures),  np.median(f_measures)))\n",
    "\n",
    "f = open(\"./tfidf_cos.csv\", 'w')\n",
    "for l in range(len(reference)-1):\n",
    "    f.write(\"{},{},{}\\n\".format(precisions[l], recalls[l], f_measures[l]))\n",
    "f.close()"
   ]
  },
  {
   "cell_type": "markdown",
   "metadata": {},
   "source": [
    "## euclidean distance"
   ]
  },
  {
   "cell_type": "code",
   "execution_count": 11,
   "metadata": {},
   "outputs": [
    {
     "name": "stdout",
     "output_type": "stream",
     "text": [
      "            min   max   avg   mean\n",
      "Precision: 0.000 0.750 0.229 0.250\n",
      "Recalls  : 0.000 1.000 0.271 0.200\n",
      "F-Measure: 0.000 0.769 0.230 0.200\n"
     ]
    }
   ],
   "source": [
    "precisions = []\n",
    "recalls = []\n",
    "f_measures = []\n",
    "\n",
    "for r in range(len(reference)-1):\n",
    "    sim = np.array(euclidean_distances(tfidf_queries_matrix[r], tfidf_matrix)[0])\n",
    "    retrieved = sim.argsort()[:min_q]+1\n",
    "    tp = 0\n",
    "    fp = 0\n",
    "    for doc in retrieved:\n",
    "        if doc in reference[r]:\n",
    "            tp += 1\n",
    "        else:\n",
    "            fp += 1\n",
    "    fn = len(reference[r]) - tp\n",
    "    precision = tp/(tp+fp)\n",
    "    recall = tp/(tp+fn)\n",
    "    precisions.append(precision)\n",
    "    recalls.append(recall)\n",
    "    if tp == 0:\n",
    "        f_measures.append(0)\n",
    "    else:\n",
    "        f_measures.append(2*(precision*recall)/(precision+recall))\n",
    "\n",
    "print(\"            min   max   avg   mean\")        \n",
    "print(\"Precision: {:.3f} {:.3f} {:.3f} {:.3f}\".format(np.min(precisions), np.max(precisions), np.average(precisions),  np.median(precisions)))\n",
    "print(\"Recalls  : {:.3f} {:.3f} {:.3f} {:.3f}\".format(np.min(recalls), np.max(recalls), np.average(recalls),  np.median(recalls)))\n",
    "print(\"F-Measure: {:.3f} {:.3f} {:.3f} {:.3f}\".format(np.min(f_measures), np.max(f_measures), np.average(f_measures),  np.median(f_measures)))\n",
    "\n",
    "f = open(\"./tfidf_euc.csv\", 'w')\n",
    "for l in range(len(reference)-1):\n",
    "    f.write(\"{},{},{}\\n\".format(precisions[l], recalls[l], f_measures[l]))\n",
    "f.close()"
   ]
  }
 ],
 "metadata": {
  "kernelspec": {
   "display_name": "Python 3",
   "language": "python",
   "name": "python3"
  },
  "language_info": {
   "codemirror_mode": {
    "name": "ipython",
    "version": 3
   },
   "file_extension": ".py",
   "mimetype": "text/x-python",
   "name": "python",
   "nbconvert_exporter": "python",
   "pygments_lexer": "ipython3",
   "version": "3.5.2"
  }
 },
 "nbformat": 4,
 "nbformat_minor": 2
}
